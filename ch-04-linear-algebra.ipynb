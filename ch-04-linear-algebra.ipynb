{
 "cells": [
  {
   "cell_type": "markdown",
   "id": "33b5f0ee",
   "metadata": {},
   "source": [
    "# Linear Algebra"
   ]
  },
  {
   "cell_type": "markdown",
   "id": "3b419689",
   "metadata": {},
   "source": [
    "## Vectors"
   ]
  },
  {
   "cell_type": "code",
   "execution_count": null,
   "id": "5325ba5d",
   "metadata": {},
   "outputs": [],
   "source": [
    "import math \n",
    "\n",
    "from typing import Callable, List, Tuple"
   ]
  },
  {
   "cell_type": "markdown",
   "id": "b508d0aa",
   "metadata": {},
   "source": [
    "### Type aliases\n",
    "\n",
    "- Vector"
   ]
  },
  {
   "cell_type": "code",
   "execution_count": null,
   "id": "0b9d9293",
   "metadata": {},
   "outputs": [],
   "source": [
    "Vector = List[float]"
   ]
  },
  {
   "cell_type": "code",
   "execution_count": null,
   "id": "43efa841",
   "metadata": {},
   "outputs": [],
   "source": [
    "height_weight_age = [\n",
    "    70,  # inches\n",
    "    170,  # pounds\n",
    "    40, # years\n",
    "]"
   ]
  },
  {
   "cell_type": "code",
   "execution_count": null,
   "id": "2db3bd65",
   "metadata": {},
   "outputs": [],
   "source": [
    "grades = [\n",
    "    95,  # exam 1\n",
    "    80,  # exam 2\n",
    "    75,  # exam 3\n",
    "    62,  # exam 4\n",
    "]"
   ]
  },
  {
   "cell_type": "markdown",
   "id": "c5d15efd",
   "metadata": {},
   "source": [
    "### Vector arithmetic"
   ]
  },
  {
   "cell_type": "code",
   "execution_count": null,
   "id": "3dc77a69",
   "metadata": {},
   "outputs": [],
   "source": [
    "# Utility functions\n",
    "\n",
    "def have_equal_lengths(v: Vector, w: Vector) -> bool:\n",
    "    \"\"\"Determine if two vectors have the same length.\"\"\"\n",
    "    return len(v) == len(w)\n",
    "\n",
    "def assert_equal_lengths(v: Vector, w: Vector) -> None:\n",
    "    assert have_equal_lengths(v, w), 'Vectors must have the same length'"
   ]
  },
  {
   "cell_type": "code",
   "execution_count": null,
   "id": "01184fdd",
   "metadata": {},
   "outputs": [],
   "source": [
    "def add(v: Vector, w: Vector) -> Vector:\n",
    "    \"\"\"Add two vectors.\"\"\"\n",
    "    assert_equal_lengths(v, w)\n",
    "    \n",
    "    return [v_i + w_i for v_i, w_i in zip(v, w)]\n",
    "\n",
    "assert add([1, 2, 3], [4, 5, 6]) == [5, 7, 9], 'Vector addition'"
   ]
  },
  {
   "cell_type": "code",
   "execution_count": null,
   "id": "a9c5423c",
   "metadata": {},
   "outputs": [],
   "source": [
    "def subtract(v: Vector, w: Vector) -> Vector:\n",
    "    \"\"\"Subtract two vectors.\"\"\"\n",
    "    assert_equal_lengths(v, w)\n",
    "    \n",
    "    return [v_i - w_i for v_i, w_i in zip(v, w)]\n",
    "\n",
    "assert subtract([5, 7, 9], [4, 5, 6]) == [1, 2, 3], 'Vector subtraction'"
   ]
  },
  {
   "cell_type": "markdown",
   "id": "32ac57df",
   "metadata": {},
   "source": [
    "We sometimes want to add (sum) a list of vectors"
   ]
  },
  {
   "cell_type": "code",
   "execution_count": null,
   "id": "ce4d9538",
   "metadata": {},
   "outputs": [],
   "source": [
    "def vector_sum(vectors: List[Vector]) -> Vector:\n",
    "    \"\"\"Sum (add) an list of Vectors.\"\"\"\n",
    "    assert vectors, 'Must have at least one vector'\n",
    "    \n",
    "    test_vector = vectors[0]\n",
    "    assert all([have_equal_lengths(test_vector, v) for v in vectors[1:]]), 'All vectors must have the same length.'\n",
    "    \n",
    "    return [sum(vector[i] for vector in vectors) for i, _ in enumerate(vectors)]\n",
    "\n",
    "assert vector_sum([[1, 2, 3], [4, 5, 6], [7, 8, 9]]) == [12, 15, 18], 'Vector sum'"
   ]
  },
  {
   "cell_type": "markdown",
   "id": "ebc7d417",
   "metadata": {},
   "source": [
    "### Scalar multiplication"
   ]
  },
  {
   "cell_type": "code",
   "execution_count": null,
   "id": "d32e9113",
   "metadata": {},
   "outputs": [],
   "source": [
    "def scalar_multiply(c: float, v: Vector) -> Vector:\n",
    "    \"\"\"Multiplication of a scalar and a vector\"\"\"\n",
    "    return [c * v_i for v_i in v]\n",
    "\n",
    "assert scalar_multiply(2, [1, 2, 3]) == [2, 4, 6], 'Scalar multiplication'"
   ]
  },
  {
   "cell_type": "markdown",
   "id": "74b9dc35",
   "metadata": {},
   "source": [
    "### Dot product"
   ]
  },
  {
   "cell_type": "code",
   "execution_count": null,
   "id": "f10339e8",
   "metadata": {},
   "outputs": [],
   "source": [
    "def dot(v: Vector, w: Vector) -> float:\n",
    "    \"\"\"Calculates the dot product of two commensurate vectors.\"\"\"\n",
    "    assert_equal_lengths(v, w)\n",
    "    \n",
    "    return sum([v_i * w_i for v_i, w_i in zip(v, w)])\n",
    "\n",
    "assert dot([1, 2, 3], [4, 5, 6]) == 32, 'Dot product'"
   ]
  },
  {
   "cell_type": "markdown",
   "id": "160c93f5",
   "metadata": {},
   "source": [
    "### Magnitude"
   ]
  },
  {
   "cell_type": "code",
   "execution_count": null,
   "id": "bdf9cc31",
   "metadata": {},
   "outputs": [],
   "source": [
    "def sum_of_squares(v: Vector) -> float:\n",
    "    \"\"\"Return the sum of the square of `v`; that is, the square of the magnitude of `v`.\"\"\"\n",
    "    return dot(v, v)\n",
    "\n",
    "assert sum_of_squares([1, 2, 3]) == 14, 'Sum of squares'\n",
    "\n",
    "def magnitude(v: Vector) -> float:\n",
    "    \"\"\"Calculate the magnitude of `v`\"\"\"\n",
    "    \n",
    "    return math.sqrt(sum_of_squares(v))\n",
    "\n",
    "assert magnitude([3, 4]) == 5, 'Vector magnitude'"
   ]
  },
  {
   "cell_type": "markdown",
   "id": "5d27d4fa",
   "metadata": {},
   "source": [
    "### Distance (between two vectors)"
   ]
  },
  {
   "cell_type": "code",
   "execution_count": null,
   "id": "54a48f17",
   "metadata": {},
   "outputs": [],
   "source": [
    "def squared_distance(v: Vector, w: Vector) -> float:\n",
    "    \"\"\"Calculate the square of the distaance between `v` and `w`\"\"\"\n",
    "    return sum_of_squares(subtract(v, w))\n",
    "\n",
    "assert squared_distance([4, 5], [1, 1]) == 25, 'Squared distance'\n",
    "\n",
    "def distance(v: Vector, w: Vector) -> float:\n",
    "    \"\"\"Calculate the distance between two vectors.\"\"\"\n",
    "    return magnitude(subtract(v, w))\n",
    "\n",
    "assert distance([4, 5], [1, 1]) == 5, 'Distance'"
   ]
  },
  {
   "cell_type": "markdown",
   "id": "759f0554",
   "metadata": {},
   "source": [
    "## Matrices"
   ]
  },
  {
   "cell_type": "code",
   "execution_count": null,
   "id": "26b57002",
   "metadata": {},
   "outputs": [],
   "source": [
    "# Implemented as a list of lists.\n",
    "Matrix = List[List[float]]"
   ]
  },
  {
   "cell_type": "code",
   "execution_count": null,
   "id": "b523b172",
   "metadata": {},
   "outputs": [],
   "source": [
    "# As in mathematics, we often use upper case letters to identify matrices.\n",
    "\n",
    "# A has two rows and three columns\n",
    "A = [[1, 2, 3], \n",
    "     [4, 5, 6]]\n",
    "\n",
    "# B has 3 rows and 2 columns\n",
    "B = [[1, 2],\n",
    "     [3, 4],\n",
    "     [5, 6]]"
   ]
  },
  {
   "cell_type": "markdown",
   "id": "d0b29a8e",
   "metadata": {},
   "source": [
    "### Matrix properties"
   ]
  },
  {
   "cell_type": "code",
   "execution_count": null,
   "id": "c44ab134",
   "metadata": {},
   "outputs": [],
   "source": [
    "def shape(A: Matrix) -> Tuple[int, int]:\n",
    "    \"\"\"Returns a tuple (# of rows of A, # of culumns of A)\"\"\"\n",
    "    row_count = len(A)\n",
    "    column_count = len(A[0])\n",
    "    return row_count, column_count\n",
    "\n",
    "assert shape(A) == (2, 3)\n",
    "assert shape(B) == (3, 2)"
   ]
  },
  {
   "cell_type": "code",
   "execution_count": null,
   "id": "6f513c66",
   "metadata": {},
   "outputs": [],
   "source": [
    "# We refer to a matrix of n rows and k columns as an mxn matrix.\n",
    "\n",
    "def get_row(A: Matrix, i: int) -> Vector:\n",
    "    \"\"\"Extract the row (a vector) of `A` indexed by `i` (zero-based).\"\"\"\n",
    "    return A[i]\n",
    "\n",
    "def get_column(A: Matrix, j: int) -> Vector:\n",
    "    \"\"\"Calculate the column vector `i` of `A` (zero-based)\"\"\"\n",
    "    # Extract all items an index `j` of each row, `A_i` in `A`\n",
    "    return [A_i[j] for A_i in A] \n",
    "\n",
    "assert get_row(A, 1) == [4, 5, 6]\n",
    "assert get_column(B, 1) == [2, 4, 6]"
   ]
  },
  {
   "cell_type": "markdown",
   "id": "402a748a",
   "metadata": {},
   "source": [
    "### Creating matrices"
   ]
  },
  {
   "cell_type": "code",
   "execution_count": null,
   "id": "cdea6670",
   "metadata": {},
   "outputs": [],
   "source": [
    "def create_matrix(row_count: int, \n",
    "                  column_count: int,\n",
    "                  item_func: Callable[[int, int], float]) -> Matrix:\n",
    "    \"\"\"Create a `row_count` x `column_count` matrix \n",
    "    whose (i, j)-th item is generated by`item_func`.\"\"\"\n",
    "    return [[item_func(i, j)  # Create j-th item in each row i\n",
    "             for j in range(column_count)]\n",
    "           for i in range(row_count)]\n",
    "\n",
    "assert create_matrix(2, 3, lambda i, j: i + j) == [[0, 1, 2],\n",
    "                                                   [1, 2, 3]]"
   ]
  },
  {
   "cell_type": "code",
   "execution_count": null,
   "id": "c910c37c",
   "metadata": {},
   "outputs": [],
   "source": [
    "def identity_matrix(n: int) -> Matrix:\n",
    "    \"\"\"Create the n x n identity matrix.\"\"\"\n",
    "    return create_matrix(n, n, lambda i, j: 1 if i == j else 0)\n",
    "\n",
    "assert identity_matrix(5) == [[1, 0, 0, 0, 0],\n",
    "                              [0, 1, 0, 0, 0],\n",
    "                              [0, 0, 1, 0, 0],\n",
    "                              [0, 0, 0, 1, 0], \n",
    "                              [0, 0, 0, 0, 1]]"
   ]
  },
  {
   "cell_type": "markdown",
   "id": "7e0e3a06",
   "metadata": {},
   "source": [
    "### Using matrices"
   ]
  },
  {
   "cell_type": "code",
   "execution_count": null,
   "id": "1e0c0f6f",
   "metadata": {},
   "outputs": [],
   "source": [
    "# To represent a data set\n",
    "\n",
    "# Imagine a data set of heights, widths, and ages of 1000 individuals. \n",
    "# We could capture this data set using a matrix of 1000 columens whose\n",
    "# rows are vectors of height, width, and age, \n",
    "\n",
    "data = [[70, 170, 40],\n",
    "        [65, 120, 26],\n",
    "        [77, 250, 19],\n",
    "        # ....\n",
    "       ]"
   ]
  },
  {
   "cell_type": "code",
   "execution_count": null,
   "id": "faf07882",
   "metadata": {},
   "outputs": [],
   "source": [
    "# As a linear function that maps k-dimensional vectors to\n",
    "# m-dimensional vectors.\n",
    "\n",
    "# We will see examples of this in a later chapter. For\n",
    "# example, imagine a k-dimensional (row) vector, v, and a \n",
    "# k x m matrix, `M`. Then `v x A` will produce an \n",
    "# m-dimensional (column) vector.\n",
    "\n",
    "# v = [1, 2]\n",
    "# M = [[1, 2, 3],\n",
    "#      [4, 5 , 6]]\n",
    "# v * M = [9, 12, 15]"
   ]
  },
  {
   "cell_type": "code",
   "execution_count": null,
   "id": "fcf682af",
   "metadata": {},
   "outputs": [],
   "source": [
    "# Third, one can use matrices to represent binary relationships\n",
    "# such as \"neighbor\" in a network.\n",
    "\n",
    "# Previously, we modeled neighbors as:\n",
    "\n",
    "friendships = [(0, 1), (0, 2), \n",
    "               (1, 2), (1, 3), \n",
    "               (2, 3), \n",
    "               (3, 4),\n",
    "               (4, 5), \n",
    "               (5, 6), (5, 7),\n",
    "               (6, 8), \n",
    "               (7, 8), \n",
    "               (8, 9)]\n",
    "\n",
    "# This same information can be represented by a symmetric, boolean\n",
    "# maxtrix. A \"truthy\" value at (i, j) indicates that user `row` is \n",
    "# friends with user `column`.\n",
    "\n",
    "#          user = 0  1  2  3  4  5  6  7  8  9\n",
    "friend_matrix = [[0, 1, 1, 0, 0, 0, 0, 0, 0, 0],  ## user 0\n",
    "                 [1, 0, 1, 1, 0, 0, 0, 0, 0, 0],  ## user 1\n",
    "                 [1, 1, 0, 1, 0, 0, 0, 0, 0, 0],  ## user 2\n",
    "                 [0, 1, 1, 0, 1, 0, 0, 0, 0, 0],  ## user 3\n",
    "                 [0, 0, 0, 1, 0, 1, 0, 0, 0, 0],  ## user 4\n",
    "                 [0, 0, 0, 0, 1, 0, 1, 1, 0, 0],  ## user 5\n",
    "                 [0, 0, 0, 0, 0, 1, 0, 0, 1, 0],  ## user 6\n",
    "                 [0, 0, 0, 0, 0, 1, 0, 0, 1, 0],  ## user 7\n",
    "                 [0, 0, 0, 0, 0, 0, 1, 1, 0, 1],  ## user 8\n",
    "                 [0, 0, 0, 0, 0, 0, 0, 0, 1, 0],  ## user 9\n",
    "                ]\n",
    "\n",
    "# If very few \"connections\" exist, a matrix representation is ery\n",
    "# space inefficient; however, as a tradeoff, this representation allows\n",
    "# for a much faster lookup to determine if two nodes are connected: \n",
    "# one only need determine if `friend_matrix[i, j]` is \"truthy\".\n",
    "\n",
    "assert friend_matrix[0][2] == True,  \"User 0 and 2 are friends\"\n",
    "assert friend_matrix[2][0] == True,  \"The symmetric relationship\"\n",
    "assert friend_matrix[0][8] == False, \\\n",
    "    \"User 0 and user 8 are **not** friends\"\n",
    "\n",
    "# Similarly, to find a node's connections (neighbors), one only need\n",
    "# inspect the column (or row) corresponding to that node.\n",
    "friends_of_five = [i for i, is_friend in \n",
    "                   enumerate(friend_matrix[5]) if is_friend]\n",
    "\n",
    "assert friends_of_five == [4, 6, 7], \"Friends of five\""
   ]
  },
  {
   "cell_type": "code",
   "execution_count": null,
   "id": "25198fd8",
   "metadata": {},
   "outputs": [],
   "source": []
  }
 ],
 "metadata": {
  "kernelspec": {
   "display_name": "Python 3 (ipykernel)",
   "language": "python",
   "name": "python3"
  },
  "language_info": {
   "codemirror_mode": {
    "name": "ipython",
    "version": 3
   },
   "file_extension": ".py",
   "mimetype": "text/x-python",
   "name": "python",
   "nbconvert_exporter": "python",
   "pygments_lexer": "ipython3",
   "version": "3.8.7"
  }
 },
 "nbformat": 4,
 "nbformat_minor": 5
}
