{
 "cells": [
  {
   "cell_type": "markdown",
   "id": "561a1400",
   "metadata": {},
   "source": [
    "# Linear Algebra"
   ]
  },
  {
   "cell_type": "markdown",
   "id": "25818eb1",
   "metadata": {},
   "source": [
    "## Vectors"
   ]
  },
  {
   "cell_type": "code",
   "execution_count": null,
   "id": "8e38d987",
   "metadata": {},
   "outputs": [],
   "source": [
    "import math \n",
    "\n",
    "from typing import List"
   ]
  },
  {
   "cell_type": "markdown",
   "id": "ba260dc8",
   "metadata": {},
   "source": [
    "### Type aliases\n",
    "\n",
    "- Vector"
   ]
  },
  {
   "cell_type": "code",
   "execution_count": null,
   "id": "33b0e53b",
   "metadata": {},
   "outputs": [],
   "source": [
    "Vector = List[float]"
   ]
  },
  {
   "cell_type": "code",
   "execution_count": null,
   "id": "81fbe920",
   "metadata": {},
   "outputs": [],
   "source": [
    "height_weight_age = [\n",
    "    70,  # inches\n",
    "    170,  # pounds\n",
    "    40, # years\n",
    "]"
   ]
  },
  {
   "cell_type": "code",
   "execution_count": null,
   "id": "9e5f4c2d",
   "metadata": {},
   "outputs": [],
   "source": [
    "grades = [\n",
    "    95,  # exam 1\n",
    "    80,  # exam 2\n",
    "    75,  # exam 3\n",
    "    62,  # exam 4\n",
    "]"
   ]
  },
  {
   "cell_type": "markdown",
   "id": "9b8d1ddb",
   "metadata": {},
   "source": [
    "### Vector arithmetic"
   ]
  },
  {
   "cell_type": "code",
   "execution_count": null,
   "id": "57b177b8",
   "metadata": {},
   "outputs": [],
   "source": [
    "# Utility functions\n",
    "\n",
    "def have_equal_lengths(v: Vector, w: Vector) -> bool:\n",
    "    \"\"\"Determine if two vectors have the same length.\"\"\"\n",
    "    return len(v) == len(w)\n",
    "\n",
    "def assert_equal_lengths(v: Vector, w: Vector) -> None:\n",
    "    assert have_equal_lengths(v, w), 'Vectors must have the same length'"
   ]
  },
  {
   "cell_type": "code",
   "execution_count": null,
   "id": "e60a1814",
   "metadata": {},
   "outputs": [],
   "source": [
    "def add(v: Vector, w: Vector) -> Vector:\n",
    "    \"\"\"Add two vectors.\"\"\"\n",
    "    assert_equal_lengths(v, w)\n",
    "    \n",
    "    return [v_i + w_i for v_i, w_i in zip(v, w)]\n",
    "\n",
    "assert add([1, 2, 3], [4, 5, 6]) == [5, 7, 9], 'Vector addition'"
   ]
  },
  {
   "cell_type": "code",
   "execution_count": null,
   "id": "6b2ceeff",
   "metadata": {},
   "outputs": [],
   "source": [
    "def subtract(v: Vector, w: Vector) -> Vector:\n",
    "    \"\"\"Subtract two vectors.\"\"\"\n",
    "    assert_equal_lengths(v, w)\n",
    "    \n",
    "    return [v_i - w_i for v_i, w_i in zip(v, w)]\n",
    "\n",
    "assert subtract([5, 7, 9], [4, 5, 6]) == [1, 2, 3], 'Vector subtraction'"
   ]
  },
  {
   "cell_type": "markdown",
   "id": "14efc8b0",
   "metadata": {},
   "source": [
    "We sometimes want to add (sum) a list of vectors"
   ]
  },
  {
   "cell_type": "code",
   "execution_count": null,
   "id": "d115e165",
   "metadata": {},
   "outputs": [],
   "source": [
    "def vector_sum(vectors: List[Vector]) -> Vector:\n",
    "    \"\"\"Sum (add) an list of Vectors.\"\"\"\n",
    "    assert vectors, 'Must have at least one vector'\n",
    "    \n",
    "    test_vector = vectors[0]\n",
    "    assert all([have_equal_lengths(test_vector, v) for v in vectors[1:]]), 'All vectors must have the same length.'\n",
    "    \n",
    "    return [sum(vector[i] for vector in vectors) for i, _ in enumerate(vectors)]\n",
    "\n",
    "assert vector_sum([[1, 2, 3], [4, 5, 6], [7, 8, 9]]) == [12, 15, 18], 'Vector sum'"
   ]
  },
  {
   "cell_type": "markdown",
   "id": "5e7edd6f",
   "metadata": {},
   "source": [
    "### Scalar multiplication"
   ]
  },
  {
   "cell_type": "code",
   "execution_count": null,
   "id": "ed48c831",
   "metadata": {},
   "outputs": [],
   "source": [
    "def scalar_multiply(c: float, v: Vector) -> Vector:\n",
    "    \"\"\"Multiplication of a scalar and a vector\"\"\"\n",
    "    return [c * v_i for v_i in v]\n",
    "\n",
    "assert scalar_multiply(2, [1, 2, 3]) == [2, 4, 6], 'Scalar multiplication'"
   ]
  },
  {
   "cell_type": "markdown",
   "id": "c6fc4972",
   "metadata": {},
   "source": [
    "### Dot product"
   ]
  },
  {
   "cell_type": "code",
   "execution_count": null,
   "id": "1ae65279",
   "metadata": {},
   "outputs": [],
   "source": [
    "def dot(v: Vector, w: Vector) -> float:\n",
    "    \"\"\"Calculates the dot product of two commensurate vectors.\"\"\"\n",
    "    assert_equal_lengths(v, w)\n",
    "    \n",
    "    return sum([v_i * w_i for v_i, w_i in zip(v, w)])\n",
    "\n",
    "assert dot([1, 2, 3], [4, 5, 6]) == 32, 'Dot product'"
   ]
  },
  {
   "cell_type": "markdown",
   "id": "dc301e52",
   "metadata": {},
   "source": [
    "### Magnitude"
   ]
  },
  {
   "cell_type": "code",
   "execution_count": null,
   "id": "7373b612",
   "metadata": {},
   "outputs": [],
   "source": [
    "def sum_of_squares(v: Vector) -> float:\n",
    "    \"\"\"Return the sum of the square of `v`; that is, the square of the magnitude of `v`.\"\"\"\n",
    "    return dot(v, v)\n",
    "\n",
    "assert sum_of_squares([1, 2, 3]) == 14, 'Sum of squares'\n",
    "\n",
    "def magnitude(v: Vector) -> float:\n",
    "    \"\"\"Calculate the magnitude of `v`\"\"\"\n",
    "    \n",
    "    return math.sqrt(sum_of_squares(v))\n",
    "\n",
    "assert magnitude([3, 4]) == 5, 'Vector magnitude'"
   ]
  },
  {
   "cell_type": "markdown",
   "id": "969fd494",
   "metadata": {},
   "source": [
    "### Distance (between two vectors)"
   ]
  },
  {
   "cell_type": "code",
   "execution_count": null,
   "id": "e20ff002",
   "metadata": {},
   "outputs": [],
   "source": [
    "def squared_distance(v: Vector, w: Vector) -> float:\n",
    "    \"\"\"Calculate the square of the distaance between `v` and `w`\"\"\"\n",
    "    return sum_of_squares(subtract(v, w))\n",
    "\n",
    "assert squared_distance([4, 5], [1, 1]) == 25, 'Squared distance'\n",
    "\n",
    "def distance(v: Vector, w: Vector) -> float:\n",
    "    \"\"\"Calculate the distance between two vectors.\"\"\"\n",
    "    return magnitude(subtract(v, w))\n",
    "\n",
    "assert distance([4, 5], [1, 1]) == 5, 'Distance'"
   ]
  },
  {
   "cell_type": "code",
   "execution_count": null,
   "id": "88e19b15",
   "metadata": {},
   "outputs": [],
   "source": []
  }
 ],
 "metadata": {
  "kernelspec": {
   "display_name": "Python 3 (ipykernel)",
   "language": "python",
   "name": "python3"
  },
  "language_info": {
   "codemirror_mode": {
    "name": "ipython",
    "version": 3
   },
   "file_extension": ".py",
   "mimetype": "text/x-python",
   "name": "python",
   "nbconvert_exporter": "python",
   "pygments_lexer": "ipython3",
   "version": "3.8.7"
  }
 },
 "nbformat": 4,
 "nbformat_minor": 5
}
