{
 "cells": [
  {
   "cell_type": "markdown",
   "id": "25471fec",
   "metadata": {},
   "source": [
    "# Linear Algebra"
   ]
  },
  {
   "cell_type": "code",
   "execution_count": null,
   "id": "5a600683",
   "metadata": {},
   "outputs": [],
   "source": [
    "## Vectors"
   ]
  },
  {
   "cell_type": "code",
   "execution_count": null,
   "id": "9494b460",
   "metadata": {},
   "outputs": [],
   "source": [
    "import math \n",
    "\n",
    "from typing import List"
   ]
  },
  {
   "cell_type": "markdown",
   "id": "de6adad0",
   "metadata": {},
   "source": [
    "### Type aliases\n",
    "\n",
    "- Vector"
   ]
  },
  {
   "cell_type": "code",
   "execution_count": null,
   "id": "44adc42a",
   "metadata": {},
   "outputs": [],
   "source": [
    "Vector = List[float]"
   ]
  },
  {
   "cell_type": "code",
   "execution_count": null,
   "id": "478a9ba5",
   "metadata": {},
   "outputs": [],
   "source": [
    "height_weight_age = [\n",
    "    70,  # inches\n",
    "    170,  # pounds\n",
    "    40, # years\n",
    "]"
   ]
  },
  {
   "cell_type": "code",
   "execution_count": null,
   "id": "39a97002",
   "metadata": {},
   "outputs": [],
   "source": [
    "grades = [\n",
    "    95,  # exam 1\n",
    "    80,  # exam 2\n",
    "    75,  # exam 3\n",
    "    62,  # exam 4\n",
    "]"
   ]
  },
  {
   "cell_type": "markdown",
   "id": "23ee5c27",
   "metadata": {},
   "source": [
    "### Vector arithmetic"
   ]
  },
  {
   "cell_type": "code",
   "execution_count": null,
   "id": "e90aa353",
   "metadata": {},
   "outputs": [],
   "source": [
    "# Utility functions\n",
    "\n",
    "def have_equal_lengths(v: Vector, w: Vector) -> bool:\n",
    "    \"\"\"Determine if two vectors have the same length.\"\"\"\n",
    "    return len(v) == len(w)\n",
    "\n",
    "def assert_equal_lengths(v: Vector, w: Vector) -> None:\n",
    "    assert have_equal_lengths(v, w), 'Vectors must have the same length'"
   ]
  },
  {
   "cell_type": "code",
   "execution_count": null,
   "id": "548f465f",
   "metadata": {},
   "outputs": [],
   "source": [
    "def add(v: Vector, w: Vector) -> Vector:\n",
    "    \"\"\"Add two vectors.\"\"\"\n",
    "    assert_equal_lengths(v, w)\n",
    "    \n",
    "    return [v_i + w_i for v_i, w_i in zip(v, w)]\n",
    "\n",
    "assert add([1, 2, 3], [4, 5, 6]) == [5, 7, 9], 'Vector addition'"
   ]
  },
  {
   "cell_type": "code",
   "execution_count": null,
   "id": "e1876c91",
   "metadata": {},
   "outputs": [],
   "source": [
    "def subtract(v: Vector, w: Vector) -> Vector:\n",
    "    \"\"\"Subtract two vectors.\"\"\"\n",
    "    assert_equal_lengths(v, w)\n",
    "    \n",
    "    return [v_i - w_i for v_i, w_i in zip(v, w)]\n",
    "\n",
    "assert subtract([5, 7, 9], [4, 5, 6]) == [1, 2, 3], 'Vector subtraction'"
   ]
  },
  {
   "cell_type": "markdown",
   "id": "35ca2987",
   "metadata": {},
   "source": [
    "We sometimes want to add (sum) a list of vectors"
   ]
  },
  {
   "cell_type": "code",
   "execution_count": null,
   "id": "b60b9516",
   "metadata": {},
   "outputs": [],
   "source": [
    "def vector_sum(vectors: List[Vector]) -> Vector:\n",
    "    \"\"\"Sum (add) an list of Vectors.\"\"\"\n",
    "    assert vectors, 'Must have at least one vector'\n",
    "    \n",
    "    test_vector = vectors[0]\n",
    "    assert all([have_equal_lengths(test_vector, v) for v in vectors[1:]]), 'All vectors must have the same length.'\n",
    "    \n",
    "    return [sum(vector[i] for vector in vectors) for i, _ in enumerate(vectors)]\n",
    "\n",
    "assert vector_sum([[1, 2, 3], [4, 5, 6], [7, 8, 9]]) == [12, 15, 18], 'Vector sum'"
   ]
  },
  {
   "cell_type": "markdown",
   "id": "ce925703",
   "metadata": {},
   "source": [
    "### Scalar multiplication"
   ]
  },
  {
   "cell_type": "code",
   "execution_count": null,
   "id": "b9c160f3",
   "metadata": {},
   "outputs": [],
   "source": [
    "def scalar_multiply(c: float, v: Vector) -> Vector:\n",
    "    \"\"\"Multiplication of a scalar and a vector\"\"\"\n",
    "    return [c * v_i for v_i in v]\n",
    "\n",
    "assert scalar_multiply(2, [1, 2, 3]) == [2, 4, 6], 'Scalar multiplication'"
   ]
  },
  {
   "cell_type": "markdown",
   "id": "a6ac9e83",
   "metadata": {},
   "source": [
    "### Dot product"
   ]
  },
  {
   "cell_type": "code",
   "execution_count": null,
   "id": "1addf4bf",
   "metadata": {},
   "outputs": [],
   "source": [
    "def dot(v: Vector, w: Vector) -> float:\n",
    "    \"\"\"Calculates the dot product of two commensurate vectors.\"\"\"\n",
    "    assert_equal_lengths(v, w)\n",
    "    \n",
    "    return sum([v_i * w_i for v_i, w_i in zip(v, w)])\n",
    "\n",
    "assert dot([1, 2, 3], [4, 5, 6]) == 32, 'Dot product'"
   ]
  },
  {
   "cell_type": "markdown",
   "id": "d7f8aef6",
   "metadata": {},
   "source": [
    "### Magnitude"
   ]
  },
  {
   "cell_type": "code",
   "execution_count": null,
   "id": "0dce84ce",
   "metadata": {},
   "outputs": [],
   "source": [
    "def sum_of_squares(v: Vector) -> float:\n",
    "    \"\"\"Return the sum of the square of `v`; that is, the square of the magnitude of `v`.\"\"\"\n",
    "    return dot(v, v)\n",
    "\n",
    "assert sum_of_squares([1, 2, 3]) == 14, 'Sum of squares'\n",
    "\n",
    "def magnitude(v: Vector) -> float:\n",
    "    \"\"\"Calculate the magnitude of `v`\"\"\"\n",
    "    \n",
    "    return math.sqrt(sum_of_squares(v))\n",
    "\n",
    "assert magnitude([3, 4]) == 5, 'Vector magnitude'"
   ]
  },
  {
   "cell_type": "markdown",
   "id": "bc46d27b",
   "metadata": {},
   "source": [
    "### Distance (between two vectors)"
   ]
  },
  {
   "cell_type": "code",
   "execution_count": null,
   "id": "a4340f50",
   "metadata": {},
   "outputs": [],
   "source": [
    "def squared_distance(v: Vector, w: Vector) -> float:\n",
    "    \"\"\"Calculate the square of the distaance between `v` and `w`\"\"\"\n",
    "    return sum_of_squares(subtract(v, w))\n",
    "\n",
    "assert squared_distance([4, 5], [1, 1]) == 25, 'Squared distance'\n",
    "\n",
    "def distance(v: Vector, w: Vector) -> float:\n",
    "    \"\"\"Calculate the distance between two vectors.\"\"\"\n",
    "    return magnitude(subtract(v, w))\n",
    "\n",
    "assert distance([4, 5], [1, 1]) == 5, 'Distance'"
   ]
  },
  {
   "cell_type": "code",
   "execution_count": null,
   "id": "8bd363ac",
   "metadata": {},
   "outputs": [],
   "source": []
  }
 ],
 "metadata": {
  "kernelspec": {
   "display_name": "Python 3 (ipykernel)",
   "language": "python",
   "name": "python3"
  },
  "language_info": {
   "codemirror_mode": {
    "name": "ipython",
    "version": 3
   },
   "file_extension": ".py",
   "mimetype": "text/x-python",
   "name": "python",
   "nbconvert_exporter": "python",
   "pygments_lexer": "ipython3",
   "version": "3.8.7"
  }
 },
 "nbformat": 4,
 "nbformat_minor": 5
}
