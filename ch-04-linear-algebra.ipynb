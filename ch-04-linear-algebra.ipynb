{
 "cells": [
  {
   "cell_type": "markdown",
   "id": "d42f0806",
   "metadata": {},
   "source": [
    "# Linear Algebra"
   ]
  },
  {
   "cell_type": "code",
   "execution_count": null,
   "id": "d251b671",
   "metadata": {},
   "outputs": [],
   "source": [
    "## Vectors"
   ]
  },
  {
   "cell_type": "code",
   "execution_count": null,
   "id": "3e02d4f8",
   "metadata": {},
   "outputs": [],
   "source": [
    "from typing import List"
   ]
  },
  {
   "cell_type": "markdown",
   "id": "782bb7e4",
   "metadata": {},
   "source": [
    "### Type aliases\n",
    "\n",
    "- Vector"
   ]
  },
  {
   "cell_type": "code",
   "execution_count": null,
   "id": "7f5b6e05",
   "metadata": {},
   "outputs": [],
   "source": [
    "Vector = List[float]"
   ]
  },
  {
   "cell_type": "code",
   "execution_count": null,
   "id": "11965571",
   "metadata": {},
   "outputs": [],
   "source": [
    "height_weight_age = [\n",
    "    70,  # inches\n",
    "    170,  # pounds\n",
    "    40, # years\n",
    "]"
   ]
  },
  {
   "cell_type": "code",
   "execution_count": null,
   "id": "2e8fa848",
   "metadata": {},
   "outputs": [],
   "source": [
    "grades = [\n",
    "    95,  # exam 1\n",
    "    80,  # exam 2\n",
    "    75,  # exam 3\n",
    "    62,  # exam 4\n",
    "]"
   ]
  },
  {
   "cell_type": "markdown",
   "id": "681175c8",
   "metadata": {},
   "source": [
    "### Vector arithmetic"
   ]
  },
  {
   "cell_type": "code",
   "execution_count": null,
   "id": "87f16e3a",
   "metadata": {},
   "outputs": [],
   "source": [
    "# Utility functions\n",
    "\n",
    "def have_equal_lengths(v: Vector, w: Vector) -> bool:\n",
    "    \"\"\"Determine if two vectors have the same length.\"\"\"\n",
    "    return len(v) == len(w)\n",
    "\n",
    "def assert_equal_lengths(v: Vector, w: Vector) -> None:\n",
    "    assert have_equal_lengths(v, w), 'Vectors must have the same length'"
   ]
  },
  {
   "cell_type": "code",
   "execution_count": null,
   "id": "3aa3df31",
   "metadata": {},
   "outputs": [],
   "source": [
    "def add(v: Vector, w: Vector) -> Vector:\n",
    "    \"\"\"Add two vectors.\"\"\"\n",
    "    assert_equal_lengths(v, w)\n",
    "    \n",
    "    return [v_i + w_i for v_i, w_i in zip(v, w)]\n",
    "\n",
    "assert add([1, 2, 3], [4, 5, 6]) == [5, 7, 9], 'Vector addition'"
   ]
  },
  {
   "cell_type": "code",
   "execution_count": null,
   "id": "8fe56bc5",
   "metadata": {},
   "outputs": [],
   "source": [
    "def subtract(v: Vector, w: Vector) -> Vector:\n",
    "    \"\"\"Subtract two vectors.\"\"\"\n",
    "    assert_equal_lengths(v, w)\n",
    "    \n",
    "    return [v_i - w_i for v_i, w_i in zip(v, w)]\n",
    "\n",
    "assert subtract([5, 7, 9], [4, 5, 6]) == [1, 2, 3], 'Vector subtraction'"
   ]
  },
  {
   "cell_type": "markdown",
   "id": "a472cc53",
   "metadata": {},
   "source": [
    "We sometimes want to add (sum) a list of vectors"
   ]
  },
  {
   "cell_type": "code",
   "execution_count": null,
   "id": "30adc3fa",
   "metadata": {},
   "outputs": [],
   "source": [
    "def vector_sum(vectors: List[Vector]) -> Vector:\n",
    "    \"\"\"Sum (add) an list of Vectors.\"\"\"\n",
    "    assert vectors, 'Must have at least one vector'\n",
    "    \n",
    "    test_vector = vectors[0]\n",
    "    assert all([have_equal_lengths(test_vector, v) for v in vectors[1:]]), 'All vectors must have the same length.'\n",
    "    \n",
    "    return [sum(vector[i] for vector in vectors) for i, _ in enumerate(vectors)]\n",
    "\n",
    "assert vector_sum([[1, 2, 3], [4, 5, 6], [7, 8, 9]]) == [12, 15, 18], 'Vector sum'"
   ]
  },
  {
   "cell_type": "markdown",
   "id": "b5936e48",
   "metadata": {},
   "source": [
    "### Scalar multiplication"
   ]
  },
  {
   "cell_type": "code",
   "execution_count": null,
   "id": "94aade5c",
   "metadata": {},
   "outputs": [],
   "source": [
    "def scalar_multiply(c: float, v: Vector) -> Vector:\n",
    "    \"\"\"Multiplication of a scalar and a vector\"\"\"\n",
    "    return [c * v_i for v_i in v]\n",
    "\n",
    "assert scalar_multiply(2, [1, 2, 3]) == [2, 4, 6], 'Scalar multiplication'"
   ]
  },
  {
   "cell_type": "code",
   "execution_count": null,
   "id": "2cfca817",
   "metadata": {},
   "outputs": [],
   "source": []
  }
 ],
 "metadata": {
  "kernelspec": {
   "display_name": "Python 3 (ipykernel)",
   "language": "python",
   "name": "python3"
  },
  "language_info": {
   "codemirror_mode": {
    "name": "ipython",
    "version": 3
   },
   "file_extension": ".py",
   "mimetype": "text/x-python",
   "name": "python",
   "nbconvert_exporter": "python",
   "pygments_lexer": "ipython3",
   "version": "3.8.7"
  }
 },
 "nbformat": 4,
 "nbformat_minor": 5
}
