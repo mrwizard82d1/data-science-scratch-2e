{
 "cells": [
  {
   "cell_type": "markdown",
   "id": "eaf2733a",
   "metadata": {},
   "source": [
    "# Chapter 03 - Visualization"
   ]
  },
  {
   "cell_type": "code",
   "execution_count": null,
   "id": "1af40033",
   "metadata": {},
   "outputs": [],
   "source": [
    "from collections import Counter\n",
    "\n",
    "import matplotlib.pyplot as plt"
   ]
  },
  {
   "cell_type": "markdown",
   "id": "84a89585",
   "metadata": {},
   "source": [
    "## Simple (Line) Plots"
   ]
  },
  {
   "cell_type": "code",
   "execution_count": null,
   "id": "bb50ae26",
   "metadata": {},
   "outputs": [],
   "source": [
    "years = range(1950, 2020, 10)\n",
    "gdp = [300.2, 543.3, 1075.9, 2862.5, 5979.6, 10289.7, 14598.3]\n",
    "\n",
    "# Create a line chart with years on the x-axis and GDP on the y-axis.\n",
    "plt.plot(years, gdp, color='green', marker='o', linestyle='solid')\n",
    "plt.title('Nominal GDP')  # Add a title\n",
    "plt.ylabel('Billions of $')  # Add a label to the y-axis\n",
    "\n",
    "plt.show()  # Show the plot"
   ]
  },
  {
   "cell_type": "markdown",
   "id": "f9ad3b2b",
   "metadata": {},
   "source": [
    "A simple line chart"
   ]
  },
  {
   "cell_type": "markdown",
   "id": "4b3b02f2",
   "metadata": {},
   "source": [
    "## Bar Charts"
   ]
  },
  {
   "cell_type": "code",
   "execution_count": null,
   "id": "4d74ebdb",
   "metadata": {},
   "outputs": [],
   "source": [
    "movies = ['Annie Hall', 'Ben-Hur', 'Casablanca', 'Gandhi', 'West Side Story']\n",
    "num_oscars = [5, 11, 3, 8, 10]\n",
    "\n",
    "# Plot bars with x-coordinate [0, 1, 2, 3, 4] and hights [num_oscars]\n",
    "plt.bar(range(len(movies)), num_oscars)\n",
    "\n",
    "\n",
    "plt.title('My Favorite Movies')  # Add a title\n",
    "plt.ylabel('# of Academy Awards')  # Label the y-axis\n",
    "# Label the x-axis with movie names at bar centers\n",
    "plt.xticks(range(len(movies)), movies)\n",
    "\n",
    "plt.show()"
   ]
  },
  {
   "cell_type": "markdown",
   "id": "39767a4b",
   "metadata": {},
   "source": [
    "A simple bar chart"
   ]
  },
  {
   "cell_type": "code",
   "execution_count": null,
   "id": "ba41e679",
   "metadata": {},
   "outputs": [],
   "source": [
    "### Historgram (a Variant of a Bar Chart)"
   ]
  },
  {
   "cell_type": "markdown",
   "id": "8be49b74",
   "metadata": {},
   "source": [
    "A bar chart can be a good choice for plotting histograms of bucketed numeric values."
   ]
  },
  {
   "cell_type": "code",
   "execution_count": null,
   "id": "29d8e2b8",
   "metadata": {},
   "outputs": [],
   "source": [
    "grades = [83, 95, 91, 87, 70, 0, 85, 82, 100, 67, 73, 77, 0]\n",
    "\n",
    "# Bucket grades by decile, but put 100 in with the 90's\n",
    "histogram = Counter(min(grade // 10 * 10, 90) for grade in grades)\n",
    "\n",
    "plt.bar(\n",
    "    [x + 5 for x in histogram.keys()],  # Shift bars to the right by 5\n",
    "    histogram.values(),  # Give each bar its correct height\n",
    "    10,  # Give each bar a width of 10\n",
    "    edgecolor=(0, 0, 0),  # Black edges for each bar\n",
    ")\n",
    "\n",
    "# x-axis from -5 to 105; y-axis from 0 to 5\n",
    "plt.axis([-5, 105, 0, 5])\n",
    "\n",
    "# x-axis labels at 0, 10, ..., 100\n",
    "plt.xticks([10 * i for i in range(11)])\n",
    "\n",
    "plt.xlabel('Decile')\n",
    "plt.ylabel('# of Students')\n",
    "plt.title('Distribution of Exam 1 Grades')\n",
    "\n",
    "plt.show()"
   ]
  },
  {
   "cell_type": "markdown",
   "id": "1029e1b5",
   "metadata": {},
   "source": [
    "The third argument to `plt.bar` specifies the bar width. In our case,\n",
    "we choose a width of 10, to fill the entire decile. We also shifted \n",
    "the bars to the right by 5, so that, for example, the \"10\" bar (which\n",
    "corresponds to the decile 10-20) would have its center at 15 and hence\n",
    "occupy the correct range. We added a black edge to each bar to make it\n",
    "visually distinct.\n",
    "\n",
    "The call to `plt.axis` indicates that we want the x-axis to range from \n",
    "-5 to 105 (just to leave a little space on the left and right), and \n",
    "that the y-axis should range from 0 to 5. And the call to `plt.xticks`\n",
    "puts x-axis labels at 0, 10, 20, ..., 100."
   ]
  },
  {
   "cell_type": "markdown",
   "id": "13a45d05",
   "metadata": {},
   "source": [
    "### Misleading bar chart y-axis"
   ]
  },
  {
   "cell_type": "markdown",
   "id": "0d7a39c7",
   "metadata": {},
   "source": [
    "Be judicious when using `plt.axis`. When creating bar charts it is \n",
    "considered especially bad form for your y-axis to **not** start at 0, \n",
    "since this is an easy way to mislead people."
   ]
  },
  {
   "cell_type": "code",
   "execution_count": null,
   "id": "71fe6f0b",
   "metadata": {},
   "outputs": [],
   "source": [
    "mentions = [500, 505]\n",
    "years = [2017, 2018]\n",
    "\n",
    "plt.bar(years, mentions, 0.8)\n",
    "plt.xticks(years)\n",
    "plt.ylabel('# of times I heard someone say \"data science\"')\n",
    "\n",
    "# Misleading y-axis only shows the part above 500\n",
    "plt.axis([2016.5, 2018.5, 499, 506])\n",
    "plt.title('Look at the \"Huge\" Increase!')\n",
    "\n",
    "plt.show()"
   ]
  },
  {
   "cell_type": "markdown",
   "id": "0b5de909",
   "metadata": {},
   "source": [
    "A chart with misleading y-axis."
   ]
  },
  {
   "cell_type": "markdown",
   "id": "1c45a900",
   "metadata": {},
   "source": [
    "### More appropriate bar chart y-axis"
   ]
  },
  {
   "cell_type": "code",
   "execution_count": null,
   "id": "2578512d",
   "metadata": {},
   "outputs": [],
   "source": [
    "plt.bar(years, mentions, 0.8)\n",
    "plt.xticks(years)\n",
    "plt.ylabel('# of times I heard someone say \"data science\"')\n",
    "\n",
    "plt.axis([2016.5, 2018.5, 0, 550])\n",
    "plt.title('Not So Huge Anymore')\n",
    "\n",
    "plt.show()"
   ]
  },
  {
   "cell_type": "code",
   "execution_count": null,
   "id": "1e156b22",
   "metadata": {},
   "outputs": [],
   "source": []
  }
 ],
 "metadata": {
  "kernelspec": {
   "display_name": "data-science-2e",
   "language": "python",
   "name": "data-science-2e"
  },
  "language_info": {
   "codemirror_mode": {
    "name": "ipython",
    "version": 3
   },
   "file_extension": ".py",
   "mimetype": "text/x-python",
   "name": "python",
   "nbconvert_exporter": "python",
   "pygments_lexer": "ipython3",
   "version": "3.8.7"
  }
 },
 "nbformat": 4,
 "nbformat_minor": 5
}
