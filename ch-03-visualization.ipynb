{
 "cells": [
  {
   "cell_type": "markdown",
   "id": "c8932c34",
   "metadata": {},
   "source": [
    "# Chapter 03 - Visualization"
   ]
  },
  {
   "cell_type": "code",
   "execution_count": null,
   "id": "eaa4d9b4",
   "metadata": {},
   "outputs": [],
   "source": [
    "from collections import Counter\n",
    "\n",
    "import matplotlib.pyplot as plt"
   ]
  },
  {
   "cell_type": "markdown",
   "id": "13fa8fa9",
   "metadata": {},
   "source": [
    "## Simple (Line) Plots"
   ]
  },
  {
   "cell_type": "code",
   "execution_count": null,
   "id": "c218910b",
   "metadata": {},
   "outputs": [],
   "source": [
    "years = range(1950, 2020, 10)\n",
    "gdp = [300.2, 543.3, 1075.9, 2862.5, 5979.6, 10289.7, 14598.3]\n",
    "\n",
    "# Create a line chart with years on the x-axis and GDP on the y-axis.\n",
    "plt.plot(years, gdp, color='green', marker='o', linestyle='solid')\n",
    "plt.title('Nominal GDP')  # Add a title\n",
    "plt.ylabel('Billions of $')  # Add a label to the y-axis\n",
    "\n",
    "plt.show()  # Show the plot"
   ]
  },
  {
   "cell_type": "markdown",
   "id": "c9ef8dad",
   "metadata": {},
   "source": [
    "A simple line chart"
   ]
  },
  {
   "cell_type": "markdown",
   "id": "44973a6e",
   "metadata": {},
   "source": [
    "## Bar Charts"
   ]
  },
  {
   "cell_type": "code",
   "execution_count": null,
   "id": "d7208b13",
   "metadata": {},
   "outputs": [],
   "source": [
    "movies = ['Annie Hall', 'Ben-Hur', 'Casablanca', 'Gandhi', 'West Side Story']\n",
    "num_oscars = [5, 11, 3, 8, 10]\n",
    "\n",
    "# Plot bars with x-coordinate [0, 1, 2, 3, 4] and hights [num_oscars]\n",
    "plt.bar(range(len(movies)), num_oscars)\n",
    "\n",
    "\n",
    "plt.title('My Favorite Movies')  # Add a title\n",
    "plt.ylabel('# of Academy Awards')  # Label the y-axis\n",
    "# Label the x-axis with movie names at bar centers\n",
    "plt.xticks(range(len(movies)), movies)\n",
    "\n",
    "plt.show()"
   ]
  },
  {
   "cell_type": "markdown",
   "id": "3aeb21d2",
   "metadata": {},
   "source": [
    "A simple bar chart"
   ]
  },
  {
   "cell_type": "code",
   "execution_count": null,
   "id": "3fd48b60",
   "metadata": {},
   "outputs": [],
   "source": [
    "### Historgram (a Variant of a Bar Chart)"
   ]
  },
  {
   "cell_type": "markdown",
   "id": "b609a8f1",
   "metadata": {},
   "source": [
    "A bar chart can be a good choice for plotting histograms of bucketed numeric values."
   ]
  },
  {
   "cell_type": "code",
   "execution_count": null,
   "id": "4b9d72eb",
   "metadata": {},
   "outputs": [],
   "source": [
    "grades = [83, 95, 91, 87, 70, 0, 85, 82, 100, 67, 73, 77, 0]\n",
    "\n",
    "# Bucket grades by decile, but put 100 in with the 90's\n",
    "histogram = Counter(min(grade // 10 * 10, 90) for grade in grades)\n",
    "\n",
    "plt.bar(\n",
    "    [x + 5 for x in histogram.keys()],  # Shift bars to the right by 5\n",
    "    histogram.values(),  # Give each bar its correct height\n",
    "    10,  # Give each bar a width of 10\n",
    "    edgecolor=(0, 0, 0),  # Black edges for each bar\n",
    ")\n",
    "\n",
    "# x-axis from -5 to 105; y-axis from 0 to 5\n",
    "plt.axis([-5, 105, 0, 5])\n",
    "\n",
    "# x-axis labels at 0, 10, ..., 100\n",
    "plt.xticks([10 * i for i in range(11)])\n",
    "\n",
    "plt.xlabel('Decile')\n",
    "plt.ylabel('# of Students')\n",
    "plt.title('Distribution of Exam 1 Grades')\n",
    "\n",
    "plt.show()"
   ]
  },
  {
   "cell_type": "markdown",
   "id": "c803853f",
   "metadata": {},
   "source": [
    "The third argument to `plt.bar` specifies the bar width. In our case,\n",
    "we choose a width of 10, to fill the entire decile. We also shifted \n",
    "the bars to the right by 5, so that, for example, the \"10\" bar (which\n",
    "corresponds to the decile 10-20) would have its center at 15 and hence\n",
    "occupy the correct range. We added a black edge to each bar to make it\n",
    "visually distinct.\n",
    "\n",
    "The call to `plt.axis` indicates that we want the x-axis to range from \n",
    "-5 to 105 (just to leave a little space on the left and right), and \n",
    "that the y-axis should range from 0 to 5. And the call to `plt.xticks`\n",
    "puts x-axis labels at 0, 10, 20, ..., 100."
   ]
  },
  {
   "cell_type": "markdown",
   "id": "08e0391b",
   "metadata": {},
   "source": [
    "### Misleading bar chart y-axis"
   ]
  },
  {
   "cell_type": "markdown",
   "id": "6390c1e4",
   "metadata": {},
   "source": [
    "Be judicious when using `plt.axis`. When creating bar charts it is \n",
    "considered especially bad form for your y-axis to **not** start at 0, \n",
    "since this is an easy way to mislead people."
   ]
  },
  {
   "cell_type": "code",
   "execution_count": null,
   "id": "06f96e92",
   "metadata": {},
   "outputs": [],
   "source": [
    "mentions = [500, 505]\n",
    "years = [2017, 2018]\n",
    "\n",
    "plt.bar(years, mentions, 0.8)\n",
    "plt.xticks(years)\n",
    "plt.ylabel('# of times I heard someone say \"data science\"')\n",
    "\n",
    "# Misleading y-axis only shows the part above 500\n",
    "plt.axis([2016.5, 2018.5, 499, 506])\n",
    "plt.title('Look at the \"Huge\" Increase!')\n",
    "\n",
    "plt.show()"
   ]
  },
  {
   "cell_type": "markdown",
   "id": "210304a9",
   "metadata": {},
   "source": [
    "A chart with misleading y-axis \n",
    "\n",
    "Since the y-axis **does not** begin at zero, the graph communicates a \n",
    "**much** larger difference (perhaps an 80% relative increase) instead\n",
    "of the actual 1% increase."
   ]
  },
  {
   "cell_type": "markdown",
   "id": "2ad5004f",
   "metadata": {},
   "source": [
    "### More appropriate bar chart y-axis"
   ]
  },
  {
   "cell_type": "code",
   "execution_count": null,
   "id": "57eb5166",
   "metadata": {},
   "outputs": [],
   "source": [
    "plt.bar(years, mentions, 0.8)\n",
    "plt.xticks(years)\n",
    "plt.ylabel('# of times I heard someone say \"data science\"')\n",
    "\n",
    "plt.axis([2016.5, 2018.5, 0, 550])\n",
    "plt.title('Not So Huge Anymore')\n",
    "\n",
    "plt.show()"
   ]
  },
  {
   "cell_type": "markdown",
   "id": "0f21cee3",
   "metadata": {},
   "source": [
    "## Line Charts"
   ]
  },
  {
   "cell_type": "markdown",
   "id": "6231c562",
   "metadata": {},
   "source": [
    "Line charts are a good choice for showing _trends_"
   ]
  },
  {
   "cell_type": "code",
   "execution_count": null,
   "id": "b4cfb6a6",
   "metadata": {},
   "outputs": [],
   "source": [
    "variance = [2 ** n for n in range(0, 8 + 1)]  # include upper-bound\n",
    "# include upper and lower bound but move downward\n",
    "bias_squared = [2 ** n for n in range(8, 0 - 1, -1)]\n",
    "total_error = [x + y for x, y in zip(variance, bias_squared)]\n",
    "\n",
    "xs = [i for i, _ in enumerate(variance)]  # simply a list of indices\n",
    "\n",
    "# We can make multiple calls to `plt.plot` to show multiple series \n",
    "# on the same chart\n",
    "plt.plot(xs, variance, 'g-', label='variance')  # green solid line\n",
    "plt.plot(xs, bias_squared, 'r-.', label='bias^2')  # red dot-dashed line\n",
    "plt.plot(xs, total_error, 'b:', label='total error') # blue dotted line\n",
    "\n",
    "# Because we assigned labels to each series, we get a legend \"for free.\"\n",
    "# (The expression `loc=9` means \"top center\" of the chart.)\n",
    "plt.legend(loc=9)\n",
    "plt.xlabel('model complexity')\n",
    "plt.xticks([])\n",
    "plt.title('The Bias-Variance Tradeoff')\n",
    "plt.show()"
   ]
  },
  {
   "cell_type": "markdown",
   "id": "9b4bd1be",
   "metadata": {},
   "source": [
    "## Scatterplots\n",
    "\n",
    "The right choice for visualizing the relationship between two paired\n",
    "sets of data."
   ]
  },
  {
   "cell_type": "code",
   "execution_count": null,
   "id": "cc4944fb",
   "metadata": {},
   "outputs": [],
   "source": [
    "friends = [70, 65, 72, 63, 71, 64, 60, 64, 67]\n",
    "minutes = [175, 170, 205, 120, 220, 130, 105, 145, 190]\n",
    "labels = [chr(i) for i in range(ord('a'), ord('i') + 1)]  # 'a' through 'i'\n",
    "\n",
    "plt.scatter(friends, minutes)\n",
    "\n",
    "# Label each point\n",
    "for label, friend_count, minute_count in zip(labels, friends, minutes):\n",
    "    plt.annotate(\n",
    "        label, \n",
    "        xy=(friend_count, minute_count),  # Put the label with its point\n",
    "        xytext=(5, -5),  # but slightly offset right and down\n",
    "        textcoords='offset points'\n",
    "    )\n",
    "    \n",
    "plt.title('Daily Minutes vs. Number of Friends')\n",
    "plt.xlabel('# of friends')\n",
    "plt.ylabel('Daily minutes spent on site')\n",
    "\n",
    "plt.show()"
   ]
  },
  {
   "cell_type": "markdown",
   "id": "52124b8c",
   "metadata": {},
   "source": [
    "### Misleading scatterplot\n",
    "\n",
    "If you're scattering comparable variables, you might get a misleading\n",
    "picture if you let matplotlib choose the scale"
   ]
  },
  {
   "cell_type": "code",
   "execution_count": null,
   "id": "4be8aec8",
   "metadata": {},
   "outputs": [],
   "source": [
    "test_1_grades = [99, 90, 85, 97, 80]\n",
    "test_2_grades = [100, 85, 60, 90, 70]\n",
    "\n",
    "plt.scatter(test_1_grades, test_2_grades)\n",
    "\n",
    "plt.title('Axes Are NOT Comparable')\n",
    "plt.xlabel('test 1 grade')\n",
    "plt.ylabel('test 2 grade')\n",
    "\n",
    "plt.show()"
   ]
  },
  {
   "cell_type": "markdown",
   "id": "f0c90caa",
   "metadata": {},
   "source": [
    "The axes have a different scale: the x-axis is from 80 to 97.5 (17.5)\n",
    "but the y-axis is from 60 to 100 (40).\n",
    "\n",
    "A call to `plt.axis('equal')` more accurately shows that most of the \n",
    "variation in the data occurs on test 2."
   ]
  },
  {
   "cell_type": "code",
   "execution_count": null,
   "id": "599845d1",
   "metadata": {},
   "outputs": [],
   "source": [
    "test_1_grades = [99, 90, 85, 97, 80]\n",
    "test_2_grades = [100, 85, 60, 90, 70]\n",
    "\n",
    "plt.scatter(test_1_grades, test_2_grades)\n",
    "\n",
    "plt.title('Axes Are NOT Comparable')\n",
    "plt.axis('equal')\n",
    "plt.xlabel('test 1 grade')\n",
    "plt.ylabel('test 2 grade')\n",
    "\n",
    "plt.show()"
   ]
  },
  {
   "cell_type": "code",
   "execution_count": null,
   "id": "f81cc0f2",
   "metadata": {},
   "outputs": [],
   "source": []
  }
 ],
 "metadata": {
  "kernelspec": {
   "display_name": "data-science-2e",
   "language": "python",
   "name": "data-science-2e"
  },
  "language_info": {
   "codemirror_mode": {
    "name": "ipython",
    "version": 3
   },
   "file_extension": ".py",
   "mimetype": "text/x-python",
   "name": "python",
   "nbconvert_exporter": "python",
   "pygments_lexer": "ipython3",
   "version": "3.8.7"
  }
 },
 "nbformat": 4,
 "nbformat_minor": 5
}
